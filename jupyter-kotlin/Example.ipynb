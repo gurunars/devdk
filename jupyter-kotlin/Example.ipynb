{
 "cells": [
  {
   "cell_type": "markdown",
   "metadata": {},
   "source": [
    "## Regular calls"
   ]
  },
  {
   "cell_type": "code",
   "execution_count": 1,
   "metadata": {},
   "outputs": [
    {
     "name": "stdout",
     "output_type": "stream",
     "text": [
      "foo\n"
     ]
    }
   ],
   "source": [
    "println(\"foo\")"
   ]
  },
  {
   "cell_type": "markdown",
   "metadata": {},
   "source": [
    "## Custom code"
   ]
  },
  {
   "cell_type": "code",
   "execution_count": 2,
   "metadata": {},
   "outputs": [],
   "source": [
    "fun test(one: String, two: String) {\n",
    "    println(\"$one -- $two\")\n",
    "}"
   ]
  },
  {
   "cell_type": "code",
   "execution_count": 3,
   "metadata": {},
   "outputs": [
    {
     "name": "stdout",
     "output_type": "stream",
     "text": [
      "foo -- bar\n"
     ]
    }
   ],
   "source": [
    "test(\"foo\", \"bar\")"
   ]
  },
  {
   "cell_type": "markdown",
   "metadata": {},
   "source": [
    "## Standard library imports"
   ]
  },
  {
   "cell_type": "code",
   "execution_count": 4,
   "metadata": {},
   "outputs": [],
   "source": [
    "import java.util.*"
   ]
  },
  {
   "cell_type": "code",
   "execution_count": 5,
   "metadata": {},
   "outputs": [],
   "source": [
    "val set = LinkedHashSet<String>()"
   ]
  },
  {
   "cell_type": "markdown",
   "metadata": {},
   "source": [
    "## 3rd party dependencies and imports"
   ]
  },
  {
   "cell_type": "code",
   "execution_count": 6,
   "metadata": {},
   "outputs": [
    {
     "name": "stdout",
     "output_type": "stream",
     "text": [
      "bar\n"
     ]
    }
   ],
   "source": [
    "println(\"bar\")"
   ]
  },
  {
   "cell_type": "code",
   "execution_count": 7,
   "metadata": {},
   "outputs": [],
   "source": [
    "@file:MavenRepository(url=\"http://jcenter.bintray.com\")"
   ]
  },
  {
   "cell_type": "code",
   "execution_count": 8,
   "metadata": {},
   "outputs": [],
   "source": [
    "@file:DependsOnMaven(fullGAV=\"com.google.code.gson:gson:2.8.5\")"
   ]
  },
  {
   "cell_type": "code",
   "execution_count": 9,
   "metadata": {},
   "outputs": [],
   "source": [
    "import com.google.gson.Gson\n",
    "\n",
    "val gson = Gson()"
   ]
  },
  {
   "cell_type": "code",
   "execution_count": 10,
   "metadata": {},
   "outputs": [],
   "source": [
    "data class SampleJson(\n",
    "    val fieldOne: String,\n",
    "    val fieldTwo: String\n",
    ")"
   ]
  },
  {
   "cell_type": "code",
   "execution_count": 11,
   "metadata": {},
   "outputs": [
    {
     "name": "stdout",
     "output_type": "stream",
     "text": [
      "{\"fieldOne\":\"one\",\"fieldTwo\":\"two\"}\n"
     ]
    }
   ],
   "source": [
    "val sample = SampleJson(\"one\", \"two\")\n",
    "println(gson.toJson(sample))"
   ]
  },
  {
   "cell_type": "markdown",
   "metadata": {},
   "source": [
    "## Graphics"
   ]
  },
  {
   "cell_type": "code",
   "execution_count": 12,
   "metadata": {},
   "outputs": [
    {
     "data": {
      "image/svg+xml": [
       "<svg xmlns=\"http://www.w3.org/2000/svg\"><rect x=\"50\" y=\"50\" rx=\"5\" ry=\"5\" width=\"300\" height=\"100\"style=\"fill:#CCCCFF;stroke:#000099\"/><text x=\"55\" y=\"90\" style=\"stroke:#000099;fill:#000099;font-size:24;\">Here could be thanks</text></svg>"
      ]
     },
     "execution_count": 12,
     "metadata": {},
     "output_type": "execute_result"
    }
   ],
   "source": [
    "val svg = \"<svg xmlns=\\\"http://www.w3.org/2000/svg\\\">\" +\n",
    "    \"<rect x=\\\"50\\\" y=\\\"50\\\" rx=\\\"5\\\" ry=\\\"5\\\" width=\\\"300\\\" height=\\\"100\\\"\" +\n",
    "        \"style=\\\"fill:#CCCCFF;stroke:#000099\\\"/>\" +\n",
    "    \"<text x=\\\"55\\\" y=\\\"90\\\" style=\\\"stroke:#000099;fill:#000099;font-size:24;\\\">\" +\n",
    "        \"Here could be thanks\" +\n",
    "    \"</text>\" +\n",
    "\"</svg>\"\n",
    "\n",
    "resultOf(Pair(\"image/svg+xml\", svg))"
   ]
  }
 ],
 "metadata": {
  "kernelspec": {
   "display_name": "Kotlin",
   "language": "kotlin",
   "name": "kotlin"
  },
  "language_info": {
   "file_extension": "kt",
   "name": "kotlin"
  }
 },
 "nbformat": 4,
 "nbformat_minor": 2
}
